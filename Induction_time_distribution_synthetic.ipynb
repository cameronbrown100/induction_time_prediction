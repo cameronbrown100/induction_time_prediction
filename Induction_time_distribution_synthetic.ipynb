{
  "nbformat": 4,
  "nbformat_minor": 0,
  "metadata": {
    "colab": {
      "name": "Induction_time_distribution_synthetic.ipynb",
      "provenance": [],
      "authorship_tag": "ABX9TyN3/o+kr9LQlJD2UwkSszlr",
      "include_colab_link": true
    },
    "kernelspec": {
      "name": "python3",
      "display_name": "Python 3"
    },
    "language_info": {
      "name": "python"
    }
  },
  "cells": [
    {
      "cell_type": "markdown",
      "metadata": {
        "id": "view-in-github",
        "colab_type": "text"
      },
      "source": [
        "<a href=\"https://colab.research.google.com/github/cameronbrown100/induction_time_prediction/blob/main/Induction_time_distribution_synthetic.ipynb\" target=\"_parent\"><img src=\"https://colab.research.google.com/assets/colab-badge.svg\" alt=\"Open In Colab\"/></a>"
      ]
    },
    {
      "cell_type": "code",
      "execution_count": 1,
      "metadata": {
        "id": "dEaTPp1gQNMT"
      },
      "outputs": [],
      "source": [
        "import numpy as np\n",
        "import pandas as pd\n",
        "import tensorflow as tf \n",
        "import tensorflow_probability as tfp\n",
        "import matplotlib.pyplot as plt\n",
        "from tensorflow import keras\n",
        "from sklearn.utils import shuffle\n",
        "from keras import optimizers\n",
        "from keras.models import Sequential, Model\n",
        "from keras.layers import Dense, Activation, Layer, Input\n",
        "from sklearn.model_selection import train_test_split"
      ]
    },
    {
      "cell_type": "code",
      "source": [
        "def t(P, S):\n",
        "    A = 130.7\n",
        "    B = 0.25\n",
        "    V = 1e-5\n",
        "    tg = 0\n",
        "\n",
        "    J = A * S * np.exp(-B/np.log(S)**2)\n",
        "    t = np.round((np.log(1-P))/(-J*V),0)+tg\n",
        "    return t"
      ],
      "metadata": {
        "id": "27AY2L3JQQPB"
      },
      "execution_count": 19,
      "outputs": []
    },
    {
      "cell_type": "code",
      "source": [
        "def data_generator(S, samples):\n",
        "    P = np.random.rand(samples)\n",
        "    return t(P, S)"
      ],
      "metadata": {
        "id": "yOvZ8nt0Qbeq"
      },
      "execution_count": 20,
      "outputs": []
    },
    {
      "cell_type": "code",
      "source": [
        "samples = 100\n",
        "\n",
        "S_vals = np.arange(1.4, 2, 0.05)\n",
        "S_arr = np.array([])\n",
        "t_arr = np.array([])\n",
        "\n",
        "for S in S_vals:\n",
        "    S_arr = np.append(S_arr, np.full(samples,S))\n",
        "    t_arr = np.append(t_arr, data_generator(S, samples))\n",
        "\n",
        "S_arr, t_arr = shuffle(S_arr, t_arr)\n",
        "S_test = np.arange(1.4, 2, 0.05)    "
      ],
      "metadata": {
        "id": "-f8lGnBHQjFp"
      },
      "execution_count": 21,
      "outputs": []
    },
    {
      "cell_type": "code",
      "source": [
        "plt.grid(True)\n",
        "plt.xlabel('S')\n",
        "plt.ylabel('t')\n",
        "plt.scatter(S_arr, t_arr, label = 'sampled data')\n",
        "plt.legend(loc = 'upper right')\n",
        "plt.show()"
      ],
      "metadata": {
        "colab": {
          "base_uri": "https://localhost:8080/",
          "height": 283
        },
        "id": "mF_2pq0YQnTD",
        "outputId": "4fba9694-a8dc-42d8-d6b3-a60aad7d458e"
      },
      "execution_count": 22,
      "outputs": [
        {
          "output_type": "display_data",
          "data": {
            "text/plain": [
              "<Figure size 432x288 with 1 Axes>"
            ],
            "image/png": "[encoded data removed]"
          },
          "metadata": {
            "needs_background": "light"
          }
        }
      ]
    },
    {
      "cell_type": "code",
      "source": [
        "epochs = 500\n",
        "batch_size = 50\n",
        "learning_rate = 0.01\n",
        "\n",
        "log_t_arr = np.log(t_arr)\n",
        "\n",
        "model = Sequential()\n",
        "model.add(Dense(12,input_shape=(1,),activation=\"tanh\"))\n",
        "model.add(Dense(12,activation=\"tanh\"))\n",
        "model.add(Dense(12,activation=\"tanh\"))\n",
        "model.add(Dense(1,activation=\"linear\"))\n",
        "adamOptimizer = tf.optimizers.Adam(learning_rate=learning_rate)\n",
        "model.compile(loss='mse',optimizer=adamOptimizer,metrics=['mse'])\n",
        "history_cache = model.fit(S_arr,\n",
        "                          log_t_arr,\n",
        "                          verbose=0, # write =1 if you wish to see the progress for each epoch\n",
        "                          epochs=epochs,\n",
        "                          batch_size=batch_size)\n",
        "print('Final cost: {0:.4f}'.format(history_cache.history['loss'][-1]))"
      ],
      "metadata": {
        "colab": {
          "base_uri": "https://localhost:8080/"
        },
        "id": "GkcCbnd7RDVw",
        "outputId": "0b114787-895b-4df9-d92c-4341d13e902c"
      },
      "execution_count": 23,
      "outputs": [
        {
          "output_type": "stream",
          "name": "stdout",
          "text": [
            "Final cost: 1.5380\n"
          ]
        }
      ]
    },
    {
      "cell_type": "code",
      "source": [
        "t_pred = np.exp(model.predict(S_test))\n",
        "\n",
        "plt.grid(True)\n",
        "plt.xlabel('S')\n",
        "plt.ylabel('log (t)')\n",
        "plt.scatter(S_arr, np.log(t_arr), label = 'sampled data')\n",
        "plt.scatter(S_test,np.log(t_pred), c='r', label='predicted values')\n",
        "plt.legend(loc='upper right')\n",
        "plt.show()"
      ],
      "metadata": {
        "colab": {
          "base_uri": "https://localhost:8080/",
          "height": 279
        },
        "id": "kaTb_JWFRI_1",
        "outputId": "55997c14-2e02-4a5f-a67f-1ee0c1b52f82"
      },
      "execution_count": 25,
      "outputs": [
        {
          "output_type": "display_data",
          "data": {
            "text/plain": [
              "<Figure size 432x288 with 1 Axes>"
            ],
            "image/png": "[encoded data removed]"
          },
          "metadata": {
            "needs_background": "light"
          }
        }
      ]
    },
    {
      "cell_type": "code",
      "source": [
        "def mdn_cost(mu, sigma, y):\n",
        "    dist = tfp.distributions.Normal(loc=mu, scale=sigma)\n",
        "    return tf.reduce_mean(-dist.log_prob(y))"
      ],
      "metadata": {
        "id": "r5oxGTkeRizg"
      },
      "execution_count": 26,
      "outputs": []
    },
    {
      "cell_type": "code",
      "source": [
        "epochs = 500\n",
        "batch_size = 50\n",
        "learning_rate = 0.001\n",
        "\n",
        "log_t_arr = np.log(t_arr)\n",
        "\n",
        "InputLayer = Input(shape=(1,))\n",
        "Layer_1 = Dense(12,activation=\"tanh\")(InputLayer)\n",
        "Layer_2 = Dense(12,activation=\"tanh\")(Layer_1)\n",
        "Layer_3 = Dense(12,activation=\"tanh\")(Layer_2)\n",
        "mu = Dense(1, activation=\"linear\")(Layer_3)\n",
        "sigma = Dense(1, activation=lambda x: tf.nn.elu(x) + 1)(Layer_3)\n",
        "y_real = Input(shape=(1,))\n",
        "lossF = mdn_cost(mu,sigma,y_real)\n",
        "model = Model(inputs=[InputLayer, y_real], outputs=[mu, sigma])\n",
        "model.add_loss(lossF)\n",
        "adamOptimizer = tf.optimizers.Adam(learning_rate=learning_rate)\n",
        "model.compile(optimizer=adamOptimizer,metrics=['mse'])\n",
        "history_cache = model.fit([S_arr, log_t_arr], #notice we are using an input to pass the real values due to the inner workings of keras\n",
        "                          verbose=0, # write =1 if you wish to see the progress for each epoch\n",
        "                          epochs=epochs,\n",
        "                          batch_size=batch_size)\n",
        "print('Final cost: {0:.4f}'.format(history_cache.history['loss'][-1]))"
      ],
      "metadata": {
        "colab": {
          "base_uri": "https://localhost:8080/"
        },
        "id": "RQJwILqYRk4E",
        "outputId": "aca196a5-ed32-47b2-d495-43dab1fc3c4b"
      },
      "execution_count": 27,
      "outputs": [
        {
          "output_type": "stream",
          "name": "stdout",
          "text": [
            "Final cost: 1.6351\n"
          ]
        }
      ]
    },
    {
      "cell_type": "code",
      "source": [
        "mu_pred, sigma_pred = model.predict(list((S_test,S_test))) # the model expects a list of arrays as it has 2 inputs\n",
        "df = pd.concat([pd.DataFrame(data=mu_pred, columns = ['mu_pred']), pd.DataFrame(data=sigma_pred, columns = ['sigma_pred'])], axis = 1)"
      ],
      "metadata": {
        "colab": {
          "base_uri": "https://localhost:8080/"
        },
        "id": "cQaCA1AYRlDz",
        "outputId": "d7ec6dd3-46cd-416f-8ef4-3782363a9bb5"
      },
      "execution_count": 28,
      "outputs": [
        {
          "output_type": "stream",
          "name": "stdout",
          "text": [
            "WARNING:tensorflow:5 out of the last 6 calls to <function Model.make_predict_function.<locals>.predict_function at 0x7f04d34c1680> triggered tf.function retracing. Tracing is expensive and the excessive number of tracings could be due to (1) creating @tf.function repeatedly in a loop, (2) passing tensors with different shapes, (3) passing Python objects instead of tensors. For (1), please define your @tf.function outside of the loop. For (2), @tf.function has experimental_relax_shapes=True option that relaxes argument shapes that can avoid unnecessary retracing. For (3), please refer to https://www.tensorflow.org/guide/function#controlling_retracing and https://www.tensorflow.org/api_docs/python/tf/function for  more details.\n"
          ]
        }
      ]
    },
    {
      "cell_type": "code",
      "source": [
        "plt.grid(True)\n",
        "plt.xlabel('S')\n",
        "plt.ylabel('log (t)')\n",
        "plt.scatter(S_arr, np.log(t_arr), label = 'sampled data')\n",
        "plt.errorbar(S_test, df['mu_pred'], yerr=df['sigma_pred'], xerr=None,c='r',ls='None',marker='.',ms=10,label='predicted distributions')\n",
        "plt.legend(loc='upper right')\n",
        "plt.show()"
      ],
      "metadata": {
        "colab": {
          "base_uri": "https://localhost:8080/",
          "height": 279
        },
        "id": "nUAV7G3MRqrG",
        "outputId": "ee5a2006-2ed8-43f5-bcf0-2732ded7d5bb"
      },
      "execution_count": 31,
      "outputs": [
        {
          "output_type": "display_data",
          "data": {
            "text/plain": [
              "<Figure size 432x288 with 1 Axes>"
            ],
            "image/png": "[encoded data removed]"
          },
          "metadata": {
            "needs_background": "light"
          }
        }
      ]
    }
  ]
}
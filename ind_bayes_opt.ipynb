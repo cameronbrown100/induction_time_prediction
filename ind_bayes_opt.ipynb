{
 "cells": [
  {
   "cell_type": "code",
   "execution_count": 14,
   "id": "a96c9f33-6e06-424d-9edd-44f4c12f6de9",
   "metadata": {},
   "outputs": [],
   "source": [
    "import numpy as np\n",
    "import pandas as pd\n",
    "import tensorflow as tf\n",
    "import tensorflow_probability as tfp\n",
    "import matplotlib.pyplot as plt\n",
    "from tensorflow import keras\n",
    "from sklearn.utils import shuffle\n",
    "from keras import optimizers\n",
    "from keras.models import Sequential, Model\n",
    "from keras.layers import Dense, Activation, Layer, Input"
   ]
  },
  {
   "cell_type": "code",
   "execution_count": 15,
   "id": "978dc503-8ce3-4624-a166-7ed9051874b8",
   "metadata": {},
   "outputs": [],
   "source": [
    "def t(P, S):\n",
    "    A = 130.7\n",
    "    B = 0.25\n",
    "    V = 1e-5\n",
    "    tg = 10000\n",
    "\n",
    "    J = A * S * np.exp(-B/np.log(S)**2)\n",
    "    t = np.round((np.log(1-P))/(-J*V),0)+tg\n",
    "    return t"
   ]
  },
  {
   "cell_type": "code",
   "execution_count": 16,
   "id": "c20d80a1-1699-4b65-81ab-ce1b62f35685",
   "metadata": {},
   "outputs": [],
   "source": [
    "def data_generator(S, samples):\n",
    "    P = np.random.rand(samples)\n",
    "    return t(P, S)"
   ]
  },
  {
   "cell_type": "code",
   "execution_count": 21,
   "id": "1f39b37d-73d6-4324-8816-b7921a60cf64",
   "metadata": {},
   "outputs": [],
   "source": [
    "samples = 100\n",
    "\n",
    "S_vals = np.arange(1.4, 2, 0.05)\n",
    "S_arr = np.array([])\n",
    "t_arr = np.array([])\n",
    "\n",
    "for S in S_vals:\n",
    "    S_arr = np.append(S_arr, np.full(samples,S))\n",
    "    t_arr = np.append(t_arr, data_generator(S, samples))\n",
    "\n",
    "S_arr, t_arr = shuffle(S_arr, t_arr)\n",
    "S_test = np.arange(1.4, 2, 0.05)    "
   ]
  },
  {
   "cell_type": "code",
   "execution_count": 22,
   "id": "7e7851d9-14fd-491e-9832-ee5e3738df6d",
   "metadata": {},
   "outputs": [
    {
     "data": {
      "image/png": "[encoded data removed]",
      "text/plain": [
       "<Figure size 432x288 with 1 Axes>"
      ]
     },
     "metadata": {
      "needs_background": "light"
     },
     "output_type": "display_data"
    }
   ],
   "source": [
    "plt.grid(True)\n",
    "plt.xlabel('S')\n",
    "plt.ylabel('t')\n",
    "plt.scatter(S_arr, t_arr, label = 'sampled data')\n",
    "#plt.plot(t_50, c='m', label = 't50')\n",
    "#plt.plot(S_vals, list(map(t, S_vals)), c = 'm', label = 'f(x)')\n",
    "plt.legend(loc = 'upper center')\n",
    "plt.show()"
   ]
  },
  {
   "cell_type": "code",
   "execution_count": 23,
   "id": "b261df25-8774-435d-b391-8c650c2fe56b",
   "metadata": {},
   "outputs": [],
   "source": [
    "epochs = 500\n",
    "batch_size = 50\n",
    "learning_rate = 0.01\n",
    "\n",
    "log_t_arr = np.log(t_arr)\n",
    "\n",
    "model = Sequential()\n",
    "model.add(Dense(12,input_shape=(1,),activation=\"tanh\"))\n",
    "model.add(Dense(12,activation=\"tanh\"))\n",
    "model.add(Dense(12,activation=\"tanh\"))\n",
    "model.add(Dense(1,activation=\"linear\"))\n",
    "adamOptimizer = tf.optimizers.Adam(learning_rate=learning_rate)\n",
    "model.compile(loss='mse',optimizer=adamOptimizer,metrics=['mse'])\n",
    "history_cache = model.fit(S_arr,\n",
    "                          log_t_arr,\n",
    "                          verbose=0, # write =1 if you wish to see the progress for each epoch\n",
    "                          epochs=epochs,\n",
    "                          batch_size=batch_size)"
   ]
  },
  {
   "cell_type": "code",
   "execution_count": 24,
   "id": "6480e00c-d4dc-4ae2-bf60-bb749dd2f1e5",
   "metadata": {},
   "outputs": [
    {
     "ename": "NameError",
     "evalue": "name 't_50' is not defined",
     "output_type": "error",
     "traceback": [
      "\u001b[0;31m---------------------------------------------------------------------------\u001b[0m",
      "\u001b[0;31mNameError\u001b[0m                                 Traceback (most recent call last)",
      "Input \u001b[0;32mIn [24]\u001b[0m, in \u001b[0;36m<module>\u001b[0;34m\u001b[0m\n\u001b[1;32m      6\u001b[0m plt\u001b[38;5;241m.\u001b[39mscatter(S_arr, np\u001b[38;5;241m.\u001b[39mlog(t_arr), label \u001b[38;5;241m=\u001b[39m \u001b[38;5;124m'\u001b[39m\u001b[38;5;124msampled data\u001b[39m\u001b[38;5;124m'\u001b[39m)\n\u001b[1;32m      7\u001b[0m plt\u001b[38;5;241m.\u001b[39mscatter(S_test,np\u001b[38;5;241m.\u001b[39mlog(t_pred), c\u001b[38;5;241m=\u001b[39m\u001b[38;5;124m'\u001b[39m\u001b[38;5;124mr\u001b[39m\u001b[38;5;124m'\u001b[39m, label\u001b[38;5;241m=\u001b[39m\u001b[38;5;124m'\u001b[39m\u001b[38;5;124mpredicted values\u001b[39m\u001b[38;5;124m'\u001b[39m)\n\u001b[0;32m----> 8\u001b[0m plt\u001b[38;5;241m.\u001b[39mplot(np\u001b[38;5;241m.\u001b[39mlog(\u001b[43mt_50\u001b[49m), c\u001b[38;5;241m=\u001b[39m\u001b[38;5;124m'\u001b[39m\u001b[38;5;124mm\u001b[39m\u001b[38;5;124m'\u001b[39m, label \u001b[38;5;241m=\u001b[39m \u001b[38;5;124m'\u001b[39m\u001b[38;5;124mt50\u001b[39m\u001b[38;5;124m'\u001b[39m)\n\u001b[1;32m      9\u001b[0m plt\u001b[38;5;241m.\u001b[39mlegend(loc\u001b[38;5;241m=\u001b[39m\u001b[38;5;124m'\u001b[39m\u001b[38;5;124mupper center\u001b[39m\u001b[38;5;124m'\u001b[39m,fontsize\u001b[38;5;241m=\u001b[39m\u001b[38;5;124m'\u001b[39m\u001b[38;5;124mlarge\u001b[39m\u001b[38;5;124m'\u001b[39m,shadow\u001b[38;5;241m=\u001b[39m\u001b[38;5;28;01mTrue\u001b[39;00m)\n\u001b[1;32m     10\u001b[0m plt\u001b[38;5;241m.\u001b[39mshow()\n",
      "\u001b[0;31mNameError\u001b[0m: name 't_50' is not defined"
     ]
    },
    {
     "data": {
      "image/png": "[encoded data removed]",
      "text/plain": [
       "<Figure size 432x288 with 1 Axes>"
      ]
     },
     "metadata": {
      "needs_background": "light"
     },
     "output_type": "display_data"
    }
   ],
   "source": [
    "t_pred = np.exp(model.predict(S_test))\n",
    "\n",
    "plt.grid(True)\n",
    "plt.xlabel('S')\n",
    "plt.ylabel('log (t)')\n",
    "plt.scatter(S_arr, np.log(t_arr), label = 'sampled data')\n",
    "plt.scatter(S_test,np.log(t_pred), c='r', label='predicted values')\n",
    "plt.plot(np.log(t_50), c='m', label = 't50')\n",
    "plt.legend(loc='upper center',fontsize='large',shadow=True)\n",
    "plt.show()\n",
    "#print('Final cost: {0:.4f}'.format(history_cache.history['mse'][-1]))"
   ]
  },
  {
   "cell_type": "code",
   "execution_count": 8,
   "id": "dee8e5c1-721d-41a0-88df-c2dfb1cce471",
   "metadata": {},
   "outputs": [],
   "source": [
    "def mdn_cost(mu, sigma, y):\n",
    "    dist = tfp.distributions.Normal(loc=mu, scale=sigma)\n",
    "    return tf.reduce_mean(-dist.log_prob(y))"
   ]
  },
  {
   "cell_type": "code",
   "execution_count": 9,
   "id": "632dd3a0-df8c-429e-8c43-802f14c4e733",
   "metadata": {},
   "outputs": [
    {
     "name": "stdout",
     "output_type": "stream",
     "text": [
      "Final cost: -0.8527\n"
     ]
    }
   ],
   "source": [
    "epochs = 500\n",
    "batch_size = 50\n",
    "learning_rate = 0.001\n",
    "\n",
    "log_t_arr = np.log(t_arr)\n",
    "\n",
    "InputLayer = Input(shape=(1,))\n",
    "Layer_1 = Dense(12,activation=\"tanh\")(InputLayer)\n",
    "Layer_2 = Dense(12,activation=\"tanh\")(Layer_1)\n",
    "Layer_3 = Dense(12,activation=\"tanh\")(Layer_2)\n",
    "mu = Dense(1, activation=\"linear\")(Layer_3)\n",
    "sigma = Dense(1, activation=lambda x: tf.nn.elu(x) + 1)(Layer_3)\n",
    "y_real = Input(shape=(1,))\n",
    "lossF = mdn_cost(mu,sigma,y_real)\n",
    "model = Model(inputs=[InputLayer, y_real], outputs=[mu, sigma])\n",
    "model.add_loss(lossF)\n",
    "adamOptimizer = tf.optimizers.Adam(learning_rate=learning_rate)\n",
    "model.compile(optimizer=adamOptimizer,metrics=['mse'])\n",
    "history_cache = model.fit([S_arr, log_t_arr], #notice we are using an input to pass the real values due to the inner workings of keras\n",
    "                          verbose=0, # write =1 if you wish to see the progress for each epoch\n",
    "                          epochs=epochs,\n",
    "                          batch_size=batch_size)\n",
    "print('Final cost: {0:.4f}'.format(history_cache.history['loss'][-1]))"
   ]
  },
  {
   "cell_type": "code",
   "execution_count": null,
   "id": "5cd26e5b-b1f2-4dbd-96c6-a2d79be4c8c5",
   "metadata": {},
   "outputs": [],
   "source": [
    "mu_pred, sigma_pred = model.predict(list((S_test,S_test))) # the model expects a list of arrays as it has 2 inputs\n",
    "df = pd.concat([pd.DataFrame(data=mu_pred, columns = ['mu_pred']), pd.DataFrame(data=sigma_pred, columns = ['sigma_pred'])], axis = 1)"
   ]
  },
  {
   "cell_type": "code",
   "execution_count": null,
   "id": "83f0ff3d-4b2a-47eb-b79f-e91a875e3dad",
   "metadata": {},
   "outputs": [],
   "source": [
    "plt.grid(True)\n",
    "plt.xlabel('S')\n",
    "plt.ylabel('log (t)')\n",
    "plt.scatter(S_arr, np.log(t_arr), label = 'sampled data')\n",
    "plt.errorbar(S_test, df['mu_pred'], yerr=df['sigma_pred'], xerr=None,c='r',ls='None',marker='.',ms=10,label='predicted distributions')\n",
    "plt.plot(np.log(t_50), c='m', label = 't50')\n",
    "plt.legend(loc='upper center',fontsize='large',shadow=True)\n",
    "plt.show()"
   ]
  },
  {
   "cell_type": "code",
   "execution_count": null,
   "id": "df99889e-b538-4241-9c67-d61a283c6dec",
   "metadata": {},
   "outputs": [],
   "source": []
  }
 ],
 "metadata": {
  "kernelspec": {
   "display_name": "Python 3 (ipykernel)",
   "language": "python",
   "name": "python3"
  },
  "language_info": {
   "codemirror_mode": {
    "name": "ipython",
    "version": 3
   },
   "file_extension": ".py",
   "mimetype": "text/x-python",
   "name": "python",
   "nbconvert_exporter": "python",
   "pygments_lexer": "ipython3",
   "version": "3.10.2"
  }
 },
 "nbformat": 4,
 "nbformat_minor": 5
}
